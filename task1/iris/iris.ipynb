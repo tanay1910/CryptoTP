{
 "cells": [
  {
   "cell_type": "code",
   "execution_count": 2,
   "metadata": {},
   "outputs": [],
   "source": [
    "import pandas as pd\n",
    "import numpy as np\n",
    "import matplotlib.pyplot as plt\n",
    "import seaborn as sns\n"
   ]
  },
  {
   "cell_type": "code",
   "execution_count": 15,
   "metadata": {},
   "outputs": [
    {
     "name": "stdout",
     "output_type": "stream",
     "text": [
      "   sepal length (cm)  sepal width (cm)  petal length (cm)  petal width (cm)  \\\n",
      "0                5.1               3.5                1.4               0.2   \n",
      "1                4.9               3.0                1.4               0.2   \n",
      "2                4.7               3.2                1.3               0.2   \n",
      "3                4.6               3.1                1.5               0.2   \n",
      "4                5.0               3.6                1.4               0.2   \n",
      "\n",
      "   target  \n",
      "0       0  \n",
      "1       0  \n",
      "2       0  \n",
      "3       0  \n",
      "4       0  \n"
     ]
    }
   ],
   "source": [
    "from sklearn.datasets import load_iris\n",
    "import pandas as pd\n",
    "\n",
    "# Load the Iris dataset\n",
    "iris = load_iris()\n",
    "X = iris.data\n",
    "y = iris.target\n",
    "\n",
    "# Convert to DataFrame for easier viewing\n",
    "df = pd.DataFrame(data=X, columns=iris.feature_names)\n",
    "df['target'] = y\n",
    "\n",
    "print(df.head())\n"
   ]
  },
  {
   "cell_type": "code",
   "execution_count": 16,
   "metadata": {},
   "outputs": [],
   "source": [
    "from sklearn.preprocessing import StandardScaler\n",
    "\n",
    "# Standardize the features\n",
    "scaler = StandardScaler()\n",
    "X_scaled = scaler.fit_transform(X)\n",
    "\n"
   ]
  },
  {
   "cell_type": "code",
   "execution_count": 17,
   "metadata": {},
   "outputs": [],
   "source": [
    "from sklearn.model_selection import train_test_split\n",
    "\n",
    "# Split the data into training and testing sets\n",
    "X_train, X_test, y_train, y_test = train_test_split(X_scaled, y, test_size=0.2, random_state=42)\n"
   ]
  },
  {
   "cell_type": "markdown",
   "metadata": {},
   "source": [
    "## One vs Rest Approach"
   ]
  },
  {
   "cell_type": "code",
   "execution_count": 18,
   "metadata": {},
   "outputs": [
    {
     "name": "stdout",
     "output_type": "stream",
     "text": [
      "OvR Accuracy: 0.9666666666666667\n",
      "OvR Confusion Matrix:\n",
      "[[10  0  0]\n",
      " [ 0  8  1]\n",
      " [ 0  0 11]]\n",
      "OvR Classification Report:\n",
      "              precision    recall  f1-score   support\n",
      "\n",
      "           0       1.00      1.00      1.00        10\n",
      "           1       1.00      0.89      0.94         9\n",
      "           2       0.92      1.00      0.96        11\n",
      "\n",
      "    accuracy                           0.97        30\n",
      "   macro avg       0.97      0.96      0.97        30\n",
      "weighted avg       0.97      0.97      0.97        30\n",
      "\n"
     ]
    }
   ],
   "source": [
    "from sklearn.linear_model import LogisticRegression\n",
    "from sklearn.metrics import accuracy_score, confusion_matrix, classification_report\n",
    "\n",
    "# Train the logistic regression model using OvR\n",
    "model_ovr = LogisticRegression(multi_class='ovr', max_iter=200)\n",
    "model_ovr.fit(X_train, y_train)\n",
    "\n",
    "# Predict on the test set\n",
    "y_pred_ovr = model_ovr.predict(X_test)\n",
    "\n",
    "# Calculate accuracy\n",
    "accuracy_ovr = accuracy_score(y_test, y_pred_ovr)\n",
    "print(f'OvR Accuracy: {accuracy_ovr}')\n",
    "\n",
    "# Generate confusion matrix\n",
    "conf_matrix_ovr = confusion_matrix(y_test, y_pred_ovr)\n",
    "print(f'OvR Confusion Matrix:\\n{conf_matrix_ovr}')\n",
    "\n",
    "# Classification report\n",
    "class_report_ovr = classification_report(y_test, y_pred_ovr)\n",
    "print(f'OvR Classification Report:\\n{class_report_ovr}')\n"
   ]
  },
  {
   "cell_type": "code",
   "execution_count": 20,
   "metadata": {},
   "outputs": [
    {
     "name": "stdout",
     "output_type": "stream",
     "text": [
      "Softmax Accuracy: 1.0\n",
      "Softmax Confusion Matrix:\n",
      "[[10  0  0]\n",
      " [ 0  9  0]\n",
      " [ 0  0 11]]\n",
      "Softmax Classification Report:\n",
      "              precision    recall  f1-score   support\n",
      "\n",
      "           0       1.00      1.00      1.00        10\n",
      "           1       1.00      1.00      1.00         9\n",
      "           2       1.00      1.00      1.00        11\n",
      "\n",
      "    accuracy                           1.00        30\n",
      "   macro avg       1.00      1.00      1.00        30\n",
      "weighted avg       1.00      1.00      1.00        30\n",
      "\n"
     ]
    }
   ],
   "source": [
    "# Train the logistic regression model using Softmax Regression\n",
    "model_softmax = LogisticRegression(multi_class='multinomial', solver='lbfgs', max_iter=200)\n",
    "model_softmax.fit(X_train, y_train)\n",
    "\n",
    "# Predict on the test set\n",
    "y_pred_softmax = model_softmax.predict(X_test)\n",
    "\n",
    "# Calculate accuracy\n",
    "accuracy_softmax = accuracy_score(y_test, y_pred_softmax)\n",
    "print(f'Softmax Accuracy: {accuracy_softmax}')\n",
    "\n",
    "# Generate confusion matrix\n",
    "conf_matrix_softmax = confusion_matrix(y_test, y_pred_softmax)\n",
    "print(f'Softmax Confusion Matrix:\\n{conf_matrix_softmax}')\n",
    "\n",
    "# Classification report\n",
    "class_report_softmax = classification_report(y_test, y_pred_softmax)\n",
    "print(f'Softmax Classification Report:\\n{class_report_softmax}')\n"
   ]
  },
  {
   "cell_type": "code",
   "execution_count": null,
   "metadata": {},
   "outputs": [],
   "source": []
  }
 ],
 "metadata": {
  "kernelspec": {
   "display_name": "Python 3",
   "language": "python",
   "name": "python3"
  },
  "language_info": {
   "codemirror_mode": {
    "name": "ipython",
    "version": 3
   },
   "file_extension": ".py",
   "mimetype": "text/x-python",
   "name": "python",
   "nbconvert_exporter": "python",
   "pygments_lexer": "ipython3",
   "version": "3.11.1"
  }
 },
 "nbformat": 4,
 "nbformat_minor": 2
}
